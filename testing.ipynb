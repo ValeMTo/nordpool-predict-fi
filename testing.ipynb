{
 "cells": [
  {
   "cell_type": "code",
   "execution_count": 20,
   "metadata": {},
   "outputs": [],
   "source": [
    "import os\n",
    "from dotenv import load_dotenv\n",
    "import pandas as pd\n",
    "from datetime import datetime, timedelta\n",
    "import numpy as np\n",
    "import pytz\n",
    "from dotenv import load_dotenv\n",
    "from util.train import train_model\n",
    "from util.sahkotin import update_spot\n",
    "from util.fingrid import update_nuclear\n",
    "from util.entso_e import entso_e_nuclear\n",
    "from util.fmi import update_wind_speed, update_temperature"
   ]
  },
  {
   "cell_type": "code",
   "execution_count": 21,
   "metadata": {},
   "outputs": [],
   "source": [
    "try:\n",
    "    load_dotenv('.env.local')  # take environment variables from .env.local\n",
    "except Exception as e:\n",
    "    print(f\"Error loading .env.local file. Did you create one? See README.md.\")\n",
    "\n",
    "# Fetch mandatory environment variables and raise exceptions if they are missing\n",
    "def get_mandatory_env_variable(name):\n",
    "    value = os.getenv(name)\n",
    "    if value is None:\n",
    "        raise ValueError(f\"Mandatory variable {name} not set in environment\")\n",
    "    return value\n",
    "\n",
    "try:\n",
    "    # Configuration and secrets, mandatory:\n",
    "    fingrid_api_key = get_mandatory_env_variable('FINGRID_API_KEY')\n",
    "    entso_e_api_key = get_mandatory_env_variable('ENTSO_E_API_KEY')\n",
    "    fmisid_ws_env = get_mandatory_env_variable('FMISID_WS')\n",
    "    fmisid_t_env = get_mandatory_env_variable('FMISID_T')\n",
    "    fmisid_ws = ['ws_' + id for id in fmisid_ws_env.split(',')]\n",
    "    fmisid_t = ['t_' + id for id in fmisid_t_env.split(',')]\n",
    "\n",
    "except ValueError as e:\n",
    "    print(f\"Error: {e}\")\n",
    "    exit(1)\n"
   ]
  },
  {
   "cell_type": "code",
   "execution_count": 22,
   "metadata": {},
   "outputs": [],
   "source": [
    "df = pd.read_csv('data/data.csv')\n",
    "tmp = df.copy()"
   ]
  },
  {
   "cell_type": "code",
   "execution_count": 23,
   "metadata": {},
   "outputs": [
    {
     "name": "stdout",
     "output_type": "stream",
     "text": [
      "* Fetching wind speed forecast and historical data between 2024-03-06 and 2024-03-18\n",
      "* Fetching temperature forecast and historical data between 2024-03-06 and 2024-03-18\n",
      "* Fetching nuclear power production data between 2024-03-06 and 2024-03-18 and inferring missing values\n"
     ]
    },
    {
     "name": "stderr",
     "output_type": "stream",
     "text": [
      "c:\\Users\\ValeriaAmato\\Documents\\analytics\\Day_Ahead_spot_price\\nordpool-predict-fi\\util\\fingrid.py:111: FutureWarning: 'H' is deprecated and will be removed in a future version, please use 'h' instead.\n",
      "  hourly_nuclear_df = nuclear_df.resample('H').mean().reset_index()\n",
      "c:\\Users\\ValeriaAmato\\Documents\\analytics\\Day_Ahead_spot_price\\nordpool-predict-fi\\util\\fingrid.py:135: FutureWarning: Series.fillna with 'method' is deprecated and will raise in a future version. Use obj.ffill() or obj.bfill() instead.\n",
      "  merged_df['NuclearPowerMW'] = merged_df['NuclearPowerMW'].fillna(method='ffill')\n"
     ]
    },
    {
     "name": "stdout",
     "output_type": "stream",
     "text": [
      "* Fingrid: Fetched 332 hours, aggregated to 28 hourly averages spanning from 2024-03-12 to 2024-03-13\n",
      "→ Fingrid: Using last known nuclear power production value: 2786 MW\n",
      "* ENTSO-E: Fetching nuclear downtime messages...\n",
      "                                              start                       end  \\\n",
      "created_doc_time                                                                \n",
      "2024-03-02 06:29:11+02:00 2024-03-02 00:00:00+02:00 2024-04-08 01:00:00+03:00   \n",
      "2024-03-13 09:01:20+02:00 2024-03-14 06:00:00+02:00 2024-03-14 14:00:00+02:00   \n",
      "\n",
      "                          avail_qty  nominal_power production_resource_name  \n",
      "created_doc_time                                                             \n",
      "2024-03-02 06:29:11+02:00         0         1600.0              Olkiluoto 3  \n",
      "2024-03-13 09:01:20+02:00       530          890.0              Olkiluoto 1  \n",
      "Empty DataFrame\n",
      "Columns: [start, end, avail_qty, nominal_power, production_resource_name]\n",
      "Index: []\n",
      "                                              start                       end  \\\n",
      "created_doc_time                                                                \n",
      "2024-03-02 06:29:11+02:00 2024-03-02 00:00:00+02:00 2024-04-08 01:00:00+03:00   \n",
      "2024-03-13 09:01:20+02:00 2024-03-14 06:00:00+02:00 2024-03-14 14:00:00+02:00   \n",
      "\n",
      "                           avail_qty  nominal_power production_resource_name  \n",
      "created_doc_time                                                              \n",
      "2024-03-02 06:29:11+02:00          0         1600.0              Olkiluoto 3  \n",
      "2024-03-13 09:01:20+02:00        530          890.0              Olkiluoto 1  \n",
      "→ ENTSO-E: Avg: 2752, max: 2772, min: 2412 MW\n",
      "* Fetching electricity price data between 2024-03-06 and 2024-03-18\n",
      "https://marketdata-api.nordpoolgroup.com/dayahead/prices/area?deliveryArea=FI&currency=EUR&startTime=2024-03-06T12%3A02%3A49.000Z&endTime=2024-03-18T12%3A02%3A49.000Z\n",
      "{'price': [('2024-03-11T23:00:00Z', '2024-03-12T00:00:00Z', 64.56), ('2024-03-12T00:00:00Z', '2024-03-12T01:00:00Z', 63.46), ('2024-03-12T01:00:00Z', '2024-03-12T02:00:00Z', 63.3), ('2024-03-12T02:00:00Z', '2024-03-12T03:00:00Z', 63.11), ('2024-03-12T03:00:00Z', '2024-03-12T04:00:00Z', 63.85), ('2024-03-12T04:00:00Z', '2024-03-12T05:00:00Z', 69.16), ('2024-03-12T05:00:00Z', '2024-03-12T06:00:00Z', 72.41), ('2024-03-12T06:00:00Z', '2024-03-12T07:00:00Z', 95.85), ('2024-03-12T07:00:00Z', '2024-03-12T08:00:00Z', 99.3), ('2024-03-12T08:00:00Z', '2024-03-12T09:00:00Z', 90.91), ('2024-03-12T09:00:00Z', '2024-03-12T10:00:00Z', 83.11), ('2024-03-12T10:00:00Z', '2024-03-12T11:00:00Z', 78.18), ('2024-03-12T11:00:00Z', '2024-03-12T12:00:00Z', 76.17), ('2024-03-12T12:00:00Z', '2024-03-12T13:00:00Z', 73.67), ('2024-03-12T13:00:00Z', '2024-03-12T14:00:00Z', 70.06), ('2024-03-12T14:00:00Z', '2024-03-12T15:00:00Z', 69.01), ('2024-03-12T15:00:00Z', '2024-03-12T16:00:00Z', 69.0), ('2024-03-12T16:00:00Z', '2024-03-12T17:00:00Z', 75.38), ('2024-03-12T17:00:00Z', '2024-03-12T18:00:00Z', 82.33), ('2024-03-12T18:00:00Z', '2024-03-12T19:00:00Z', 99.13), ('2024-03-12T19:00:00Z', '2024-03-12T20:00:00Z', 71.09), ('2024-03-12T20:00:00Z', '2024-03-12T21:00:00Z', 71.41), ('2024-03-12T21:00:00Z', '2024-03-12T22:00:00Z', 68.27), ('2024-03-12T22:00:00Z', '2024-03-12T23:00:00Z', 63.15), ('2024-03-07T23:00:00Z', '2024-03-08T00:00:00Z', 66.81), ('2024-03-08T00:00:00Z', '2024-03-08T01:00:00Z', 64.89), ('2024-03-08T01:00:00Z', '2024-03-08T02:00:00Z', 64.87), ('2024-03-08T02:00:00Z', '2024-03-08T03:00:00Z', 64.01), ('2024-03-08T03:00:00Z', '2024-03-08T04:00:00Z', 67.72), ('2024-03-08T04:00:00Z', '2024-03-08T05:00:00Z', 79.15), ('2024-03-08T05:00:00Z', '2024-03-08T06:00:00Z', 96.16), ('2024-03-08T06:00:00Z', '2024-03-08T07:00:00Z', 95.06), ('2024-03-08T07:00:00Z', '2024-03-08T08:00:00Z', 113.16), ('2024-03-08T08:00:00Z', '2024-03-08T09:00:00Z', 111.62), ('2024-03-08T09:00:00Z', '2024-03-08T10:00:00Z', 78.74), ('2024-03-08T10:00:00Z', '2024-03-08T11:00:00Z', 106.58), ('2024-03-08T11:00:00Z', '2024-03-08T12:00:00Z', 82.84), ('2024-03-08T12:00:00Z', '2024-03-08T13:00:00Z', 77.58), ('2024-03-08T13:00:00Z', '2024-03-08T14:00:00Z', 73.11), ('2024-03-08T14:00:00Z', '2024-03-08T15:00:00Z', 69.66), ('2024-03-08T15:00:00Z', '2024-03-08T16:00:00Z', 80.0), ('2024-03-08T16:00:00Z', '2024-03-08T17:00:00Z', 116.24), ('2024-03-08T17:00:00Z', '2024-03-08T18:00:00Z', 119.86), ('2024-03-08T18:00:00Z', '2024-03-08T19:00:00Z', 109.28), ('2024-03-08T19:00:00Z', '2024-03-08T20:00:00Z', 68.89), ('2024-03-08T20:00:00Z', '2024-03-08T21:00:00Z', 88.84), ('2024-03-08T21:00:00Z', '2024-03-08T22:00:00Z', 82.19), ('2024-03-08T22:00:00Z', '2024-03-08T23:00:00Z', 75.84), ('2024-03-09T23:00:00Z', '2024-03-10T00:00:00Z', 75.01), ('2024-03-10T00:00:00Z', '2024-03-10T01:00:00Z', 71.62), ('2024-03-10T01:00:00Z', '2024-03-10T02:00:00Z', 69.09), ('2024-03-10T02:00:00Z', '2024-03-10T03:00:00Z', 69.05), ('2024-03-10T03:00:00Z', '2024-03-10T04:00:00Z', 70.29), ('2024-03-10T04:00:00Z', '2024-03-10T05:00:00Z', 85.48), ('2024-03-10T05:00:00Z', '2024-03-10T06:00:00Z', 71.99), ('2024-03-10T06:00:00Z', '2024-03-10T07:00:00Z', 70.82), ('2024-03-10T07:00:00Z', '2024-03-10T08:00:00Z', 72.48), ('2024-03-10T08:00:00Z', '2024-03-10T09:00:00Z', 75.0), ('2024-03-10T09:00:00Z', '2024-03-10T10:00:00Z', 87.28), ('2024-03-10T10:00:00Z', '2024-03-10T11:00:00Z', 75.0), ('2024-03-10T11:00:00Z', '2024-03-10T12:00:00Z', 69.25), ('2024-03-10T12:00:00Z', '2024-03-10T13:00:00Z', 63.78), ('2024-03-10T13:00:00Z', '2024-03-10T14:00:00Z', 59.39), ('2024-03-10T14:00:00Z', '2024-03-10T15:00:00Z', 59.91), ('2024-03-10T15:00:00Z', '2024-03-10T16:00:00Z', 62.78), ('2024-03-10T16:00:00Z', '2024-03-10T17:00:00Z', 60.01), ('2024-03-10T17:00:00Z', '2024-03-10T18:00:00Z', 59.94), ('2024-03-10T18:00:00Z', '2024-03-10T19:00:00Z', 55.55), ('2024-03-10T19:00:00Z', '2024-03-10T20:00:00Z', 50.01), ('2024-03-10T20:00:00Z', '2024-03-10T21:00:00Z', 52.45), ('2024-03-10T21:00:00Z', '2024-03-10T22:00:00Z', 50.01), ('2024-03-10T22:00:00Z', '2024-03-10T23:00:00Z', 49.09), ('2024-03-10T23:00:00Z', '2024-03-11T00:00:00Z', 36.68), ('2024-03-11T00:00:00Z', '2024-03-11T01:00:00Z', 33.9), ('2024-03-11T01:00:00Z', '2024-03-11T02:00:00Z', 34.84), ('2024-03-11T02:00:00Z', '2024-03-11T03:00:00Z', 35.0), ('2024-03-11T03:00:00Z', '2024-03-11T04:00:00Z', 44.47), ('2024-03-11T04:00:00Z', '2024-03-11T05:00:00Z', 54.95), ('2024-03-11T05:00:00Z', '2024-03-11T06:00:00Z', 74.32), ('2024-03-11T06:00:00Z', '2024-03-11T07:00:00Z', 75.66), ('2024-03-11T07:00:00Z', '2024-03-11T08:00:00Z', 76.7), ('2024-03-11T08:00:00Z', '2024-03-11T09:00:00Z', 77.0), ('2024-03-11T09:00:00Z', '2024-03-11T10:00:00Z', 87.25), ('2024-03-11T10:00:00Z', '2024-03-11T11:00:00Z', 79.06), ('2024-03-11T11:00:00Z', '2024-03-11T12:00:00Z', 68.37), ('2024-03-11T12:00:00Z', '2024-03-11T13:00:00Z', 68.69), ('2024-03-11T13:00:00Z', '2024-03-11T14:00:00Z', 62.91), ('2024-03-11T14:00:00Z', '2024-03-11T15:00:00Z', 63.88), ('2024-03-11T15:00:00Z', '2024-03-11T16:00:00Z', 79.02), ('2024-03-11T16:00:00Z', '2024-03-11T17:00:00Z', 90.86), ('2024-03-11T17:00:00Z', '2024-03-11T18:00:00Z', 100.42), ('2024-03-11T18:00:00Z', '2024-03-11T19:00:00Z', 79.92), ('2024-03-11T19:00:00Z', '2024-03-11T20:00:00Z', 75.03), ('2024-03-11T20:00:00Z', '2024-03-11T21:00:00Z', 67.87), ('2024-03-11T21:00:00Z', '2024-03-11T22:00:00Z', 63.45), ('2024-03-11T22:00:00Z', '2024-03-11T23:00:00Z', 59.95), ('2024-03-06T23:00:00Z', '2024-03-07T00:00:00Z', 73.33), ('2024-03-07T00:00:00Z', '2024-03-07T01:00:00Z', 72.32), ('2024-03-07T01:00:00Z', '2024-03-07T02:00:00Z', 70.34), ('2024-03-07T02:00:00Z', '2024-03-07T03:00:00Z', 68.71), ('2024-03-07T03:00:00Z', '2024-03-07T04:00:00Z', 69.89), ('2024-03-07T04:00:00Z', '2024-03-07T05:00:00Z', 83.05), ('2024-03-07T05:00:00Z', '2024-03-07T06:00:00Z', 130.03), ('2024-03-07T06:00:00Z', '2024-03-07T07:00:00Z', 199.99), ('2024-03-07T07:00:00Z', '2024-03-07T08:00:00Z', 142.99), ('2024-03-07T08:00:00Z', '2024-03-07T09:00:00Z', 82.39), ('2024-03-07T09:00:00Z', '2024-03-07T10:00:00Z', 107.82), ('2024-03-07T10:00:00Z', '2024-03-07T11:00:00Z', 90.79), ('2024-03-07T11:00:00Z', '2024-03-07T12:00:00Z', 87.19), ('2024-03-07T12:00:00Z', '2024-03-07T13:00:00Z', 74.29), ('2024-03-07T13:00:00Z', '2024-03-07T14:00:00Z', 67.36), ('2024-03-07T14:00:00Z', '2024-03-07T15:00:00Z', 81.11), ('2024-03-07T15:00:00Z', '2024-03-07T16:00:00Z', 96.98), ('2024-03-07T16:00:00Z', '2024-03-07T17:00:00Z', 106.75), ('2024-03-07T17:00:00Z', '2024-03-07T18:00:00Z', 111.52), ('2024-03-07T18:00:00Z', '2024-03-07T19:00:00Z', 101.08), ('2024-03-07T19:00:00Z', '2024-03-07T20:00:00Z', 79.9), ('2024-03-07T20:00:00Z', '2024-03-07T21:00:00Z', 85.79), ('2024-03-07T21:00:00Z', '2024-03-07T22:00:00Z', 79.89), ('2024-03-07T22:00:00Z', '2024-03-07T23:00:00Z', 70.61), ('2024-03-12T23:00:00Z', '2024-03-13T00:00:00Z', 58.86), ('2024-03-13T00:00:00Z', '2024-03-13T01:00:00Z', 57.34), ('2024-03-13T01:00:00Z', '2024-03-13T02:00:00Z', 56.68), ('2024-03-13T02:00:00Z', '2024-03-13T03:00:00Z', 56.18), ('2024-03-13T03:00:00Z', '2024-03-13T04:00:00Z', 56.49), ('2024-03-13T04:00:00Z', '2024-03-13T05:00:00Z', 61.04), ('2024-03-13T05:00:00Z', '2024-03-13T06:00:00Z', 72.78), ('2024-03-13T06:00:00Z', '2024-03-13T07:00:00Z', 73.05), ('2024-03-13T07:00:00Z', '2024-03-13T08:00:00Z', 89.8), ('2024-03-13T08:00:00Z', '2024-03-13T09:00:00Z', 142.6), ('2024-03-13T09:00:00Z', '2024-03-13T10:00:00Z', 113.56), ('2024-03-13T10:00:00Z', '2024-03-13T11:00:00Z', 91.1), ('2024-03-13T11:00:00Z', '2024-03-13T12:00:00Z', 82.01), ('2024-03-13T12:00:00Z', '2024-03-13T13:00:00Z', 80.91), ('2024-03-13T13:00:00Z', '2024-03-13T14:00:00Z', 92.47), ('2024-03-13T14:00:00Z', '2024-03-13T15:00:00Z', 70.03), ('2024-03-13T15:00:00Z', '2024-03-13T16:00:00Z', 70.07), ('2024-03-13T16:00:00Z', '2024-03-13T17:00:00Z', 111.37), ('2024-03-13T17:00:00Z', '2024-03-13T18:00:00Z', 70.07), ('2024-03-13T18:00:00Z', '2024-03-13T19:00:00Z', 55.04), ('2024-03-13T19:00:00Z', '2024-03-13T20:00:00Z', 35.71), ('2024-03-13T20:00:00Z', '2024-03-13T21:00:00Z', 30.89), ('2024-03-13T21:00:00Z', '2024-03-13T22:00:00Z', 25.91), ('2024-03-13T22:00:00Z', '2024-03-13T23:00:00Z', 12.5), ('2024-03-06T13:00:00Z', '2024-03-06T14:00:00Z', 70.64), ('2024-03-06T14:00:00Z', '2024-03-06T15:00:00Z', 75.44), ('2024-03-06T15:00:00Z', '2024-03-06T16:00:00Z', 84.31), ('2024-03-06T16:00:00Z', '2024-03-06T17:00:00Z', 106.03), ('2024-03-06T17:00:00Z', '2024-03-06T18:00:00Z', 119.25), ('2024-03-06T18:00:00Z', '2024-03-06T19:00:00Z', 119.03), ('2024-03-06T19:00:00Z', '2024-03-06T20:00:00Z', 92.95), ('2024-03-06T20:00:00Z', '2024-03-06T21:00:00Z', 80.13), ('2024-03-06T21:00:00Z', '2024-03-06T22:00:00Z', 77.98), ('2024-03-06T22:00:00Z', '2024-03-06T23:00:00Z', 74.34), ('2024-03-08T23:00:00Z', '2024-03-09T00:00:00Z', 87.82), ('2024-03-09T00:00:00Z', '2024-03-09T01:00:00Z', 75.26), ('2024-03-09T01:00:00Z', '2024-03-09T02:00:00Z', 74.77), ('2024-03-09T02:00:00Z', '2024-03-09T03:00:00Z', 71.98), ('2024-03-09T03:00:00Z', '2024-03-09T04:00:00Z', 73.37), ('2024-03-09T04:00:00Z', '2024-03-09T05:00:00Z', 85.45), ('2024-03-09T05:00:00Z', '2024-03-09T06:00:00Z', 74.86), ('2024-03-09T06:00:00Z', '2024-03-09T07:00:00Z', 69.57), ('2024-03-09T07:00:00Z', '2024-03-09T08:00:00Z', 77.58), ('2024-03-09T08:00:00Z', '2024-03-09T09:00:00Z', 72.03), ('2024-03-09T09:00:00Z', '2024-03-09T10:00:00Z', 85.01), ('2024-03-09T10:00:00Z', '2024-03-09T11:00:00Z', 79.98), ('2024-03-09T11:00:00Z', '2024-03-09T12:00:00Z', 79.02), ('2024-03-09T12:00:00Z', '2024-03-09T13:00:00Z', 83.88), ('2024-03-09T13:00:00Z', '2024-03-09T14:00:00Z', 74.54), ('2024-03-09T14:00:00Z', '2024-03-09T15:00:00Z', 68.13), ('2024-03-09T15:00:00Z', '2024-03-09T16:00:00Z', 65.72), ('2024-03-09T16:00:00Z', '2024-03-09T17:00:00Z', 112.02), ('2024-03-09T17:00:00Z', '2024-03-09T18:00:00Z', 139.34), ('2024-03-09T18:00:00Z', '2024-03-09T19:00:00Z', 75.11), ('2024-03-09T19:00:00Z', '2024-03-09T20:00:00Z', 67.67), ('2024-03-09T20:00:00Z', '2024-03-09T21:00:00Z', 62.48), ('2024-03-09T21:00:00Z', '2024-03-09T22:00:00Z', 65.57), ('2024-03-09T22:00:00Z', '2024-03-09T23:00:00Z', 65.93), ('2024-03-13T23:00:00Z', '2024-03-14T00:00:00Z', 26.21), ('2024-03-14T00:00:00Z', '2024-03-14T01:00:00Z', 20.98), ('2024-03-14T01:00:00Z', '2024-03-14T02:00:00Z', 19.02), ('2024-03-14T02:00:00Z', '2024-03-14T03:00:00Z', 12.95), ('2024-03-14T03:00:00Z', '2024-03-14T04:00:00Z', 14.26), ('2024-03-14T04:00:00Z', '2024-03-14T05:00:00Z', 19.94), ('2024-03-14T05:00:00Z', '2024-03-14T06:00:00Z', 26.87), ('2024-03-14T06:00:00Z', '2024-03-14T07:00:00Z', 30.37), ('2024-03-14T07:00:00Z', '2024-03-14T08:00:00Z', 30.49), ('2024-03-14T08:00:00Z', '2024-03-14T09:00:00Z', 30.13), ('2024-03-14T09:00:00Z', '2024-03-14T10:00:00Z', 30.34), ('2024-03-14T10:00:00Z', '2024-03-14T11:00:00Z', 30.63), ('2024-03-14T11:00:00Z', '2024-03-14T12:00:00Z', 29.97), ('2024-03-14T12:00:00Z', '2024-03-14T13:00:00Z', 29.04), ('2024-03-14T13:00:00Z', '2024-03-14T14:00:00Z', 27.45), ('2024-03-14T14:00:00Z', '2024-03-14T15:00:00Z', 24.94), ('2024-03-14T15:00:00Z', '2024-03-14T16:00:00Z', 22.35), ('2024-03-14T16:00:00Z', '2024-03-14T17:00:00Z', 20.94), ('2024-03-14T17:00:00Z', '2024-03-14T18:00:00Z', 23.26), ('2024-03-14T18:00:00Z', '2024-03-14T19:00:00Z', 19.36), ('2024-03-14T19:00:00Z', '2024-03-14T20:00:00Z', 14.26), ('2024-03-14T20:00:00Z', '2024-03-14T21:00:00Z', 3.49), ('2024-03-14T21:00:00Z', '2024-03-14T22:00:00Z', 0.1), ('2024-03-14T22:00:00Z', '2024-03-14T23:00:00Z', -0.09)]}\n",
      "→ Days of data coverage (should be 7 back, 5 forward for now):  442\n"
     ]
    }
   ],
   "source": [
    "\n",
    "# Ensure 'timestamp' column is in datetime format\n",
    "df['timestamp'] = pd.to_datetime(df['timestamp'])\n",
    "df.set_index('timestamp', inplace=True)\n",
    "    \n",
    "# We operate from this moment back and forward\n",
    "now = pd.Timestamp.utcnow()\n",
    "\n",
    "# Round up to the next full hour if not already on a full hour\n",
    "if now.minute > 0 or now.second > 0 or now.microsecond > 0:\n",
    "    now = now.ceil('h')  # Rounds up to the nearest hour\n",
    "    \n",
    "# Drop rows that are older than a week, unless we intend to do a retrospective prediction update after a model update\n",
    "#df = df[df.index > now - pd.Timedelta(days=7)]\n",
    "\n",
    "# Forward-fill the timestamp column for 5*24 = 120 hours ahead\n",
    "start_time = now + pd.Timedelta(hours=1)  # Start from the next hour\n",
    "end_time = now + pd.Timedelta(hours=120)  # 5 days ahead\n",
    "new_index = pd.date_range(start=start_time, end=end_time, freq='h')\n",
    "df = df.reindex(df.index.union(new_index))\n",
    "\n",
    "# Reset the index to turn 'timestamp' back into a column before the update functions\n",
    "df.reset_index(inplace=True)\n",
    "df.rename(columns={'index': 'Timestamp'}, inplace=True)\n",
    "\n",
    "# Get the latest FMI wind speed values for the data frame, past and future\n",
    "# NOTE: To save on API calls, this won't backfill history beyond 7 days even if asked\n",
    "df = update_wind_speed(df)\n",
    "        \n",
    "# Get the latest FMI temperature values for the data frame, past and future\n",
    "# NOTE: To save on API calls, this won't backfill history beyond 7 days even if asked\n",
    "df = update_temperature(df)\n",
    "\n",
    "# Get the latest nuclear power data for the data frame, and infer the future from last known value\n",
    "# NOTE: To save on API calls, this won't backfill history beyond 7 days even if asked\n",
    "df = update_nuclear(df, fingrid_api_key=fingrid_api_key)\n",
    "\n",
    "# Fetch future nuclear downtime information from ENTSO-E unavailability data, h/t github:@pkautio\n",
    "df_entso_e = entso_e_nuclear(entso_e_api_key)\n",
    "\n",
    "# Refresh the previously inferred nuclear power numbers with the ENTSO-E data\n",
    "for index, row in df_entso_e.iterrows():\n",
    "    mask = (df['Timestamp'] == row['timestamp'])\n",
    "    df.loc[mask, 'NuclearPowerMW'] = row['NuclearPowerMW']\n",
    "\n",
    "for index, row in df.iterrows():\n",
    "    if np.isnan(row['NuclearPowerMW']):\n",
    "        df.loc[index, 'NuclearPowerMW'] = tmp.loc[index, 'NuclearPowerMW']\n",
    "\n",
    "# Get the latest spot prices for the data frame, past and future if any\n",
    "# NOTE: To save on API calls, this won't backfill history beyond 7 days even if asked\n",
    "df = update_spot(df)\n",
    "\n",
    "# TODO: Decide if including wind power capacity is necessary; it seems to worsen the MSE and R2\n",
    "# For now we'll drop it\n",
    "#df = df.drop(columns=['WindPowerCapacityMW'])\n",
    "\n",
    "# print(\"Filled-in dataframe before predict:\\n\", df)\n",
    "print(\"→ Days of data coverage (should be 7 back, 5 forward for now): \", int(len(df)/24))\n",
    "\n",
    "# Fill in the 'hour', 'day_of_week', and 'month' columns for the model\n",
    "df['Timestamp'] = pd.to_datetime(df['Timestamp'])\n",
    "df['day_of_week'] = df['Timestamp'].dt.dayofweek + 1\n",
    "df['hour'] = df['Timestamp'].dt.hour\n",
    "df['month'] = df['Timestamp'].dt.month"
   ]
  },
  {
   "cell_type": "code",
   "execution_count": 24,
   "metadata": {},
   "outputs": [],
   "source": [
    "df = df.rename(columns={'Timestamp': 'timestamp'})"
   ]
  },
  {
   "cell_type": "code",
   "execution_count": 72,
   "metadata": {},
   "outputs": [],
   "source": [
    "specific_timestamp = datetime.now().replace(hour=0, minute=0, second=0, microsecond=0) + timedelta(days=1) \n",
    "# Get the current time in Helsinki timezone\n",
    "helsinki_tz = pytz.timezone('Europe/Helsinki')\n",
    "now = datetime.now(tz=helsinki_tz)\n",
    "\n",
    "# Convert to UTC+0 timezone\n",
    "utc_tz = pytz.timezone('UTC')\n",
    "specific_timestamp = specific_timestamp.astimezone(utc_tz)\n"
   ]
  },
  {
   "cell_type": "code",
   "execution_count": 74,
   "metadata": {},
   "outputs": [],
   "source": [
    "df['timestamp'] = pd.to_datetime(df['timestamp'])\n",
    "row = df[df['timestamp'] == specific_timestamp]"
   ]
  },
  {
   "cell_type": "code",
   "execution_count": 31,
   "metadata": {},
   "outputs": [],
   "source": [
    "df_nan = df.dropna()"
   ]
  },
  {
   "cell_type": "code",
   "execution_count": 34,
   "metadata": {},
   "outputs": [
    {
     "name": "stdout",
     "output_type": "stream",
     "text": [
      "→ Feature Importance:\n",
      "       Feature  Importance\n",
      "NuclearPowerMW    0.164440\n",
      "     ws_101256    0.154898\n",
      "      t_100968    0.150701\n",
      "      t_101339    0.122489\n",
      "      t_101118    0.096937\n",
      "      t_101786    0.062205\n",
      "     ws_101673    0.058043\n",
      "          hour    0.049524\n",
      "         month    0.049020\n",
      "     ws_101846    0.031594\n",
      "   day_of_week    0.031359\n",
      "     ws_101267    0.028790\n",
      "→ Durbin-Watson autocorrelation test: 2.04\n",
      "→ ACF values for the first 5 lags:\n",
      "  Lag 1: 1.0000\n",
      "  Lag 2: -0.0206\n",
      "  Lag 3: -0.0075\n",
      "  Lag 4: 0.0154\n",
      "  Lag 5: -0.0001\n",
      "  Lag 6: -0.0058\n"
     ]
    }
   ],
   "source": [
    "mae, mse, r2, samples_mae, samples_mse, samples_r2, rf_trained = train_model(df_nan, fmisid_ws=fmisid_ws, fmisid_t=fmisid_t)"
   ]
  },
  {
   "cell_type": "code",
   "execution_count": 69,
   "metadata": {},
   "outputs": [
    {
     "data": {
      "text/plain": [
       "10510"
      ]
     },
     "execution_count": 69,
     "metadata": {},
     "output_type": "execute_result"
    }
   ],
   "source": [
    "row.index[0]"
   ]
  },
  {
   "cell_type": "code",
   "execution_count": 35,
   "metadata": {},
   "outputs": [],
   "source": [
    "price_df = rf_trained.predict(df[['day_of_week', 'hour', 'month', 'NuclearPowerMW'] + fmisid_ws + fmisid_t])\n",
    "if 'PricePredict_cpkWh' in df.columns:\n",
    "    df = df.drop(columns=['PricePredict_cpkWh'])\n",
    "for i in range(row.index[0]+1, len(price_df)):\n",
    "    df.loc[i, 'predicted_spot_price'] = price_df[i]"
   ]
  },
  {
   "cell_type": "code",
   "execution_count": 66,
   "metadata": {},
   "outputs": [],
   "source": [
    "df.to_csv('data/data.csv', index=False)"
   ]
  }
 ],
 "metadata": {
  "kernelspec": {
   "display_name": "day_ahead_spot_price",
   "language": "python",
   "name": "python3"
  },
  "language_info": {
   "codemirror_mode": {
    "name": "ipython",
    "version": 3
   },
   "file_extension": ".py",
   "mimetype": "text/x-python",
   "name": "python",
   "nbconvert_exporter": "python",
   "pygments_lexer": "ipython3",
   "version": "3.10.13"
  }
 },
 "nbformat": 4,
 "nbformat_minor": 2
}
